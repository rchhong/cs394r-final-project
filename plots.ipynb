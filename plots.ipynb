{
 "cells": [
  {
   "cell_type": "code",
   "execution_count": 87,
   "metadata": {},
   "outputs": [],
   "source": [
    "from copy import deepcopy\n",
    "import gym\n",
    "import gym_wordle\n",
    "import torch\n",
    "from gym_wordle.exceptions import InvalidWordException\n",
    "from actor_critic.a2c import ActorCriticNet\n",
    "from agents.prob_agent import ProbabilisticAgent\n",
    "from agents.random_agent import RandomAgent\n",
    "from utils import load_model\n",
    "from utils.const import STATE_SIZE\n",
    "from utils.utils import load_word_list, convert_encoded_array_to_human_readable\n",
    "from agents import GreedyAgent\n",
    "from tqdm import tqdm\n",
    "from plots.entropy.simulations import run_trial_entropy, get_entropies_of_all_words\n",
    "import matplotlib.pyplot as plt"
   ]
  },
  {
   "cell_type": "code",
   "execution_count": 88,
   "metadata": {},
   "outputs": [],
   "source": [
    "\n",
    "\n",
    "def run_trial(a2c_agent, verbose, word_list):\n",
    "    env = gym.make('Wordle-v0')\n",
    "    games = []\n",
    "    num_turns_distribution = [0 for _ in range(6)]\n",
    "    num_wins = 0\n",
    "    total_steps = 0\n",
    "    for index in tqdm(range(len(word_list))):\n",
    "        i = word_list[index]\n",
    "        obs = env.reset()\n",
    "        env.hidden_word = [ord(x) - 97 for x in i]\n",
    "        done = False\n",
    "        step = 0\n",
    "\n",
    "\n",
    "        actions = []\n",
    "        while not done:\n",
    "            while True:\n",
    "                try:\n",
    "                    action, log_prob_action, entropy, state_value = a2c_agent(torch.Tensor(obs))\n",
    "                    actions.append(convert_encoded_array_to_human_readable(action))\n",
    "\n",
    "                    obs, reward, done, _ = env.step(action)\n",
    "                    step += 1\n",
    "\n",
    "                    break\n",
    "                except InvalidWordException:\n",
    "                    pass\n",
    "\n",
    "        if(action == list(env.hidden_word)):\n",
    "            num_wins += 1\n",
    "            num_turns_distribution[step - 1] += 1\n",
    "            total_steps += step\n",
    "\n",
    "        games.append((deepcopy(actions), convert_encoded_array_to_human_readable(env.hidden_word)))\n",
    "\n",
    "    # print(f\"WIN RATE: {num_wins / NUM_ITER}\")\n",
    "    if(verbose):\n",
    "        for game in games:\n",
    "            print(str(game))\n",
    "\n",
    "    return num_wins / len(word_list), num_turns_distribution, total_steps / num_wins if num_wins > 0 else 0, games"
   ]
  },
  {
   "cell_type": "code",
   "execution_count": 89,
   "metadata": {},
   "outputs": [],
   "source": [
    "\n",
    "WORDS_DIR = \"./gym-wordle/gym_wordle/data/5_words.txt\"\n",
    "SOLUTIONS_DIR = \"./plots/entropy/possible_words.txt\"\n",
    "EMBEDDING_SIZE = 64\n",
    "\n",
    "word_list = load_word_list(WORDS_DIR)\n",
    "allowed_solutions = load_word_list(SOLUTIONS_DIR)"
   ]
  },
  {
   "cell_type": "code",
   "execution_count": null,
   "metadata": {},
   "outputs": [],
   "source": []
  },
  {
   "cell_type": "code",
   "execution_count": 90,
   "metadata": {},
   "outputs": [],
   "source": [
    "def get_optimal_agent_data(num_iter = 1000):\n",
    "    model = ActorCriticNet(STATE_SIZE, word_list, EMBEDDING_SIZE)\n",
    "    load_model(model, \"reinforce15k\")\n",
    "    optimal_agent_no_solution_knowledge = ProbabilisticAgent(model, word_list)\n",
    "\n",
    "    win_rates = []\n",
    "    turn_distributions = []\n",
    "    averages_amount_of_turns = []\n",
    "\n",
    "    for _ in range(num_iter):\n",
    "        win_rate, turn_distribution, average_amount_of_turns, _ = run_trial(optimal_agent_no_solution_knowledge, False, allowed_solutions)\n",
    "        win_rates.append(win_rate)\n",
    "        turn_distributions.append(turn_distribution)\n",
    "        averages_amount_of_turns.append(average_amount_of_turns)\n",
    "    \n",
    "\n",
    "    return win_rates, turn_distributions, averages_amount_of_turns"
   ]
  },
  {
   "cell_type": "code",
   "execution_count": 91,
   "metadata": {},
   "outputs": [],
   "source": [
    "def get_random_agent_data(num_iter = 1000):\n",
    "    random_agent = RandomAgent(word_list)\n",
    "\n",
    "    win_rates = []\n",
    "    turn_distributions = []\n",
    "    averages_amount_of_turns = []\n",
    "\n",
    "    for _ in range(num_iter):\n",
    "        win_rate, turn_distribution, average_amount_of_turns, _ = run_trial(random_agent, False, allowed_solutions)\n",
    "        win_rates.append(win_rate)\n",
    "        turn_distributions.append(turn_distribution)\n",
    "        averages_amount_of_turns.append(average_amount_of_turns)\n",
    "    \n",
    "\n",
    "    return win_rates, turn_distributions, averages_amount_of_turns"
   ]
  },
  {
   "cell_type": "code",
   "execution_count": 92,
   "metadata": {},
   "outputs": [],
   "source": [
    "\n",
    "import numpy as np\n",
    "def get_entropy_agent_data(first_guess, num_iter = 1000):\n",
    "    win_rates = []\n",
    "    turn_distributions = []\n",
    "    averages_amount_of_turns = []\n",
    "\n",
    "    for _ in range(num_iter):\n",
    "        turn_distribution, average_amount_of_turns, _ = run_trial_entropy(first_guess=first_guess)\n",
    "        win_rate = 1.0\n",
    "        if(len(turn_distribution) > 6):\n",
    "            losses = np.sum(turn_distribution[6:])\n",
    "            win_rate = losses / np.sum(turn_distribution)\n",
    "        \n",
    "        win_rates.append(win_rate)\n",
    "        turn_distributions.append(turn_distribution)\n",
    "        averages_amount_of_turns.append(average_amount_of_turns)\n",
    "    \n",
    "    return win_rates, turn_distributions, averages_amount_of_turns"
   ]
  },
  {
   "cell_type": "code",
   "execution_count": 93,
   "metadata": {},
   "outputs": [],
   "source": [
    "NUM_ITER = 10"
   ]
  },
  {
   "cell_type": "code",
   "execution_count": 94,
   "metadata": {},
   "outputs": [
    {
     "name": "stderr",
     "output_type": "stream",
     "text": [
      "100%|██████████| 2309/2309 [00:57<00:00, 40.41it/s]\n",
      "100%|██████████| 2309/2309 [00:59<00:00, 38.59it/s]\n",
      "100%|██████████| 2309/2309 [00:56<00:00, 40.51it/s]\n",
      "100%|██████████| 2309/2309 [00:58<00:00, 39.61it/s]\n",
      "100%|██████████| 2309/2309 [00:53<00:00, 42.80it/s]\n",
      "100%|██████████| 2309/2309 [00:51<00:00, 44.90it/s]\n",
      "100%|██████████| 2309/2309 [00:50<00:00, 45.51it/s]\n",
      "100%|██████████| 2309/2309 [00:55<00:00, 41.50it/s]\n",
      "100%|██████████| 2309/2309 [00:52<00:00, 43.63it/s]\n",
      "100%|██████████| 2309/2309 [00:53<00:00, 43.28it/s]\n"
     ]
    }
   ],
   "source": [
    "opt_win_rates, opt_turn_distributions, opt_averages_amount_of_turns = get_optimal_agent_data(num_iter=NUM_ITER)"
   ]
  },
  {
   "cell_type": "code",
   "execution_count": 95,
   "metadata": {},
   "outputs": [
    {
     "name": "stderr",
     "output_type": "stream",
     "text": [
      "100%|██████████| 2309/2309 [00:01<00:00, 1501.90it/s]\n",
      "100%|██████████| 2309/2309 [00:01<00:00, 1523.14it/s]\n",
      "100%|██████████| 2309/2309 [00:01<00:00, 1509.05it/s]\n",
      "100%|██████████| 2309/2309 [00:01<00:00, 1513.27it/s]\n",
      "100%|██████████| 2309/2309 [00:01<00:00, 1502.60it/s]\n",
      "100%|██████████| 2309/2309 [00:01<00:00, 1520.37it/s]\n",
      "100%|██████████| 2309/2309 [00:01<00:00, 1483.07it/s]\n",
      "100%|██████████| 2309/2309 [00:01<00:00, 1524.32it/s]\n",
      "100%|██████████| 2309/2309 [00:01<00:00, 1523.63it/s]\n",
      "100%|██████████| 2309/2309 [00:01<00:00, 1524.92it/s]\n"
     ]
    }
   ],
   "source": [
    "rand_win_rates, rand_turn_distributions, rand_averages_amount_of_turns = get_random_agent_data(num_iter=NUM_ITER)"
   ]
  },
  {
   "cell_type": "code",
   "execution_count": 96,
   "metadata": {},
   "outputs": [
    {
     "name": "stderr",
     "output_type": "stream",
     "text": [
      "                                                                                \r"
     ]
    }
   ],
   "source": [
    "salet_win_rates, salet_turn_distributions, salet_averages_amount_of_turns = get_entropy_agent_data(\"salet\", num_iter=NUM_ITER)"
   ]
  },
  {
   "cell_type": "code",
   "execution_count": 97,
   "metadata": {},
   "outputs": [
    {
     "name": "stderr",
     "output_type": "stream",
     "text": [
      "                                                                                \r"
     ]
    }
   ],
   "source": [
    "crate_win_rates, crate_turn_distributions, crate_averages_amount_of_turns = get_entropy_agent_data(\"salet\", num_iter=NUM_ITER)"
   ]
  },
  {
   "cell_type": "code",
   "execution_count": 98,
   "metadata": {},
   "outputs": [
    {
     "name": "stderr",
     "output_type": "stream",
     "text": [
      "                                                                                \r"
     ]
    }
   ],
   "source": [
    "trace_win_rates, trace_turn_distributions, trace_averages_amount_of_turns = get_entropy_agent_data(\"salet\", num_iter=NUM_ITER)"
   ]
  },
  {
   "cell_type": "code",
   "execution_count": 99,
   "metadata": {},
   "outputs": [
    {
     "name": "stdout",
     "output_type": "stream",
     "text": [
      "[0.0, 0.0008661758336942399, 0.0, 0.0, 0.00043308791684711995, 0.0, 0.00043308791684711995, 0.0, 0.00043308791684711995, 0.00043308791684711995]\n"
     ]
    }
   ],
   "source": [
    "agent_names = ['REINFORCE Agent', \"Random Agent\", \"Entropy Agent (SALET)\", \"Entropy Agent (CRATE)\", \"Entropy Agent (TRACE)\"]\n",
    "\n",
    "print(rand_win_rates)\n",
    "means = np.mean([opt_win_rates, rand_win_rates, salet_win_rates, crate_win_rates, trace_win_rates], axis = 1)\n",
    "std_devs = np.std([opt_win_rates, rand_win_rates, salet_win_rates, crate_win_rates, trace_win_rates], axis = 1)"
   ]
  },
  {
   "cell_type": "code",
   "execution_count": null,
   "metadata": {},
   "outputs": [
    {
     "data": {
      "image/png": "[encoded data removed]",
      "text/plain": [
       "<Figure size 1332x756 with 1 Axes>"
      ]
     },
     "metadata": {
      "needs_background": "light"
     },
     "output_type": "display_data"
    }
   ],
   "source": [
    "fig, ax = plt.subplots()\n",
    "fig.set_size_inches(18.5, 10.5)\n",
    "ax.bar(np.arange(len(agent_names)), means, yerr=std_devs, align='center', alpha=0.5, ecolor='black', capsize=10)\n",
    "ax.set_ylabel('Average Winrate (across trials)')\n",
    "ax.set_xticks(np.arange(len(agent_names)))\n",
    "ax.set_xticklabels(agent_names)\n",
    "ax.set_title('Winrate')\n",
    "ax.yaxis.grid(True)\n",
    "\n",
    "plt.axhline(.648, color='red', linestyle = '--')\n",
    "\n",
    "# Save the figure and show\n",
    "plt.show()"
   ]
  },
  {
   "cell_type": "code",
   "execution_count": 100,
   "metadata": {},
   "outputs": [],
   "source": [
    "agent_names = ['REINFORCE Agent', \"Random Agent\", \"Entropy Agent (SALET)\", \"Entropy Agent (CRATE)\", \"Entropy Agent (TRACE)\"]\n",
    "means2 = np.mean([opt_averages_amount_of_turns, rand_averages_amount_of_turns, salet_averages_amount_of_turns, crate_averages_amount_of_turns, trace_averages_amount_of_turns], axis = 1)\n",
    "std_devs2 = np.std([opt_averages_amount_of_turns, rand_averages_amount_of_turns, salet_averages_amount_of_turns, crate_averages_amount_of_turns, trace_averages_amount_of_turns], axis = 1)"
   ]
  },
  {
   "cell_type": "code",
   "execution_count": 101,
   "metadata": {},
   "outputs": [
    {
     "data": {
      "image/png": "[encoded data removed]",
      "text/plain": [
       "<Figure size 1332x756 with 1 Axes>"
      ]
     },
     "metadata": {
      "needs_background": "light"
     },
     "output_type": "display_data"
    }
   ],
   "source": [
    "fig, ax = plt.subplots()\n",
    "fig.set_size_inches(18.5, 10.5)\n",
    "ax.bar(np.arange(len(agent_names)), means2, yerr=std_devs2, align='center', alpha=0.5, ecolor='black', capsize=10)\n",
    "ax.set_ylabel('Average Number of Turns')\n",
    "ax.set_xticks(np.arange(len(agent_names)))\n",
    "ax.set_xticklabels(agent_names)\n",
    "ax.set_title('Average Number of Turns')\n",
    "ax.yaxis.grid(True)\n",
    "\n",
    "plt.axhline(5.6, color='red', linestyle = '--')\n",
    "\n",
    "# Save the figure and show\n",
    "plt.show()"
   ]
  }
 ],
 "metadata": {
  "interpreter": {
   "hash": "38cf3a2657c4530458a1d5b90a9ba637718c74089d900d5938397f33b4197fc5"
  },
  "kernelspec": {
   "display_name": "ml",
   "language": "python",
   "name": "ml"
  },
  "language_info": {
   "codemirror_mode": {
    "name": "ipython",
    "version": 3
   },
   "file_extension": ".py",
   "mimetype": "text/x-python",
   "name": "python",
   "nbconvert_exporter": "python",
   "pygments_lexer": "ipython3",
   "version": "3.9.12"
  },
  "orig_nbformat": 4
 },
 "nbformat": 4,
 "nbformat_minor": 2
}
